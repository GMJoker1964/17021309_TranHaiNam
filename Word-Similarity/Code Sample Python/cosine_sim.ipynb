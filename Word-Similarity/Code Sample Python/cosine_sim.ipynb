{
 "cells": [
  {
   "cell_type": "code",
   "execution_count": 1,
   "metadata": {},
   "outputs": [],
   "source": [
    "import numpy as np\n",
    "import pandas as pd\n",
    "import os\n",
    "for dirname, _, filenames in os.walk('/datasets/ViSim-400'):\n",
    "    for filename in filenames:\n",
    "        print(os.path.join(dirname, filename))"
   ]
  },
  {
   "cell_type": "code",
   "execution_count": 2,
   "metadata": {},
   "outputs": [],
   "source": [
    "with open(r\"C:\\Users\\Nam Serious\\Documents\\GitHub\\Word-Similarity\\word2vec\\W2V_150.txt\", encoding=\"utf8\") as file:\n",
    "    data = file.readlines()"
   ]
  },
  {
   "cell_type": "code",
   "execution_count": 3,
   "metadata": {},
   "outputs": [
    {
     "data": {
      "text/plain": [
       "77021"
      ]
     },
     "execution_count": 3,
     "metadata": {},
     "output_type": "execute_result"
    }
   ],
   "source": [
    "len(data)"
   ]
  },
  {
   "cell_type": "code",
   "execution_count": 4,
   "metadata": {},
   "outputs": [],
   "source": [
    "for i in range(len(data)):\n",
    "    data[i] = data[i][:-1]"
   ]
  },
  {
   "cell_type": "code",
   "execution_count": 5,
   "metadata": {},
   "outputs": [],
   "source": [
    "data_dict = dict()\n",
    "\n",
    "for i in range(len(data)):\n",
    "    split_data = data[i].split()\n",
    "    data_dict[split_data[0]] = np.array(split_data[1:]).astype('float64')"
   ]
  },
  {
   "cell_type": "code",
   "execution_count": 6,
   "metadata": {},
   "outputs": [
    {
     "data": {
      "text/plain": [
       "array([ 2.901038e-01, -2.898787e-01,  4.169351e-01,  1.936890e+00,\n",
       "        4.440359e-01,  1.187533e+00, -1.278718e+00, -3.357244e-01,\n",
       "       -1.059525e+00, -4.051802e-01,  9.927868e-01,  2.713921e-01,\n",
       "        4.353015e-01,  1.896744e-01,  2.499255e-01,  9.544332e-01,\n",
       "        3.713105e-01,  4.723712e-01,  2.987050e-01,  9.900422e-02,\n",
       "        5.380060e-02,  1.256095e-01, -2.945406e-01, -2.668967e-01,\n",
       "       -4.368787e-01,  1.352120e+00, -3.540562e-01,  7.705687e-01,\n",
       "       -6.539557e-01,  6.201942e-01, -4.162242e-01,  6.057601e-01,\n",
       "        5.687499e-03,  2.138319e-01, -1.188556e+00,  2.894022e-01,\n",
       "       -6.332723e-01, -9.608023e-01,  5.113855e-01, -6.741438e-01,\n",
       "       -5.453097e-01, -1.733377e+00,  4.026040e-01,  4.122192e-01,\n",
       "        8.170357e-01, -4.663657e-01, -1.512289e-01, -8.130344e-02,\n",
       "       -1.436132e-02,  9.065846e-01, -3.635000e-02,  4.515977e-01,\n",
       "        1.006652e+00, -1.006614e-01,  7.427867e-01,  2.368379e-01,\n",
       "        4.215781e-01, -4.080069e-01,  5.122606e-01, -2.412347e-01,\n",
       "       -1.213612e+00,  7.888793e-02,  1.292419e-01,  4.145024e-01,\n",
       "       -8.490115e-01, -6.491510e-01,  9.899794e-01,  3.355688e-01,\n",
       "        9.509587e-02,  2.730910e-01,  2.448625e-02,  7.488444e-02,\n",
       "        3.302635e-01, -3.053875e-01,  1.210820e+00, -2.571445e-01,\n",
       "       -6.499817e-01, -1.039241e+00,  5.446467e-01, -2.342715e-01,\n",
       "       -2.141560e-01,  1.736449e+00,  3.514251e-01, -3.420529e-01,\n",
       "       -4.696232e-01, -7.168052e-02,  8.120720e-01,  1.607128e-01,\n",
       "       -9.532697e-01, -5.058695e-01,  5.524900e-01,  5.901064e-01,\n",
       "       -5.222334e-01,  1.593389e-01,  5.967399e-01,  2.223347e-01,\n",
       "        5.673734e-01, -4.246528e-02,  1.304158e+00, -1.729949e-01,\n",
       "       -1.074485e+00,  5.799553e-01, -1.173799e+00, -5.818654e-01,\n",
       "       -8.134814e-02, -7.383232e-01,  1.332844e+00, -4.429582e-01,\n",
       "        4.642139e-01, -7.511488e-02, -4.062985e-01, -8.101875e-01,\n",
       "       -1.328896e+00, -1.378485e-01, -5.634289e-02,  1.187565e+00,\n",
       "        1.022674e+00, -8.961027e-01,  6.253523e-01,  7.079693e-01,\n",
       "       -4.918869e-01,  4.761550e-01, -2.409674e-01, -6.475715e-02,\n",
       "        8.800999e-02,  1.818908e+00, -1.167035e+00, -3.644007e-01,\n",
       "       -4.097302e-01, -1.422877e+00, -4.737919e-01, -2.557130e-01,\n",
       "        6.980738e-01,  7.589301e-01,  5.900671e-01, -6.934115e-01,\n",
       "        3.411300e-01, -1.083018e-03,  1.074284e+00, -1.296313e+00,\n",
       "       -4.676817e-01, -7.147113e-01,  1.415871e+00, -7.913461e-01,\n",
       "       -1.861793e-01, -2.037222e-01, -5.469003e-01,  5.113254e-01,\n",
       "       -5.972742e-01, -1.138472e+00])"
      ]
     },
     "execution_count": 6,
     "metadata": {},
     "output_type": "execute_result"
    }
   ],
   "source": [
    "data_dict[\"những\"]"
   ]
  },
  {
   "cell_type": "markdown",
   "metadata": {},
   "source": [
    "Cosine Similarity Example"
   ]
  },
  {
   "cell_type": "code",
   "execution_count": 7,
   "metadata": {},
   "outputs": [],
   "source": [
    "def cosine_similarity(a, b):\n",
    "    nominator = np.dot(a, b)\n",
    "    \n",
    "    a_norm = np.sqrt(np.sum(a**2))\n",
    "    b_norm = np.sqrt(np.sum(b**2))\n",
    "    \n",
    "    denominator = a_norm * b_norm\n",
    "    \n",
    "    cosine_similarity = nominator / denominator\n",
    "    \n",
    "    return cosine_similarity"
   ]
  },
  {
   "cell_type": "code",
   "execution_count": 9,
   "metadata": {},
   "outputs": [
    {
     "name": "stdout",
     "output_type": "stream",
     "text": [
      "Cosine similarity for pair (table, desk) = 0.3370984716978072\n",
      "Cosine similarity for pair (football, baseball) = 0.5348913029963391\n",
      "Cosine similarity for pair (water, fire) = -0.040520226991628175\n"
     ]
    }
   ],
   "source": [
    "table = data_dict[\"am_tường\"]\n",
    "desk = data_dict[\"thông_hiểu\"]\n",
    "football = data_dict[\"bất_lợi\"]\n",
    "baseball = data_dict[\"thuận_lợi\"]\n",
    "water = data_dict[\"đổ_bê_tông\"]\n",
    "fire = data_dict[\"con_ruột\"]\n",
    "\n",
    "\n",
    "print(f\"Cosine similarity for pair (table, desk) = {cosine_similarity(table, desk)}\")\n",
    "print(f\"Cosine similarity for pair (football, baseball) = {cosine_similarity(football, baseball)}\")\n",
    "print(f\"Cosine similarity for pair (water, fire) = {cosine_similarity(water, fire)}\")"
   ]
  }
 ],
 "metadata": {
  "kernelspec": {
   "display_name": "Python 3.7.9 64-bit",
   "language": "python",
   "name": "python3"
  },
  "language_info": {
   "codemirror_mode": {
    "name": "ipython",
    "version": 3
   },
   "file_extension": ".py",
   "mimetype": "text/x-python",
   "name": "python",
   "nbconvert_exporter": "python",
   "pygments_lexer": "ipython3",
   "version": "3.7.9"
  },
  "orig_nbformat": 4,
  "vscode": {
   "interpreter": {
    "hash": "6c8b42c47271a27c38ea85f8e4e71370756505388b54fa45aa9196bcba768691"
   }
  }
 },
 "nbformat": 4,
 "nbformat_minor": 2
}
